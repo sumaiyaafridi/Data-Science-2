{
 "cells": [
  {
   "cell_type": "code",
   "execution_count": 1,
   "id": "9e2a8e89",
   "metadata": {},
   "outputs": [],
   "source": [
    "import mysql.connector"
   ]
  },
  {
   "cell_type": "code",
   "execution_count": 2,
   "id": "de5994e7",
   "metadata": {},
   "outputs": [],
   "source": [
    "db=mysql.connector.connect(\n",
    "    host='localhost',\n",
    "    user='sumayyah',\n",
    "    password='afridi24.'\n",
    "    )"
   ]
  },
  {
   "cell_type": "code",
   "execution_count": 3,
   "id": "89035daa",
   "metadata": {},
   "outputs": [],
   "source": [
    "c=db.cursor()"
   ]
  },
  {
   "cell_type": "code",
   "execution_count": 4,
   "id": "e9d797d0",
   "metadata": {},
   "outputs": [],
   "source": [
    "c.execute('SHOW DATABASES')"
   ]
  },
  {
   "cell_type": "code",
   "execution_count": 5,
   "id": "73b7f766",
   "metadata": {},
   "outputs": [
    {
     "data": {
      "text/plain": [
       "<mysql.connector.cursor_cext.CMySQLCursor at 0x7fa390445f70>"
      ]
     },
     "execution_count": 5,
     "metadata": {},
     "output_type": "execute_result"
    }
   ],
   "source": [
    "c"
   ]
  },
  {
   "cell_type": "code",
   "execution_count": 6,
   "id": "8db7c510",
   "metadata": {},
   "outputs": [
    {
     "name": "stdout",
     "output_type": "stream",
     "text": [
      "('MIS',)\n",
      "('Star',)\n",
      "('information_schema',)\n",
      "('mysql',)\n",
      "('performance_schema',)\n",
      "('sys',)\n"
     ]
    }
   ],
   "source": [
    "for x in c:\n",
    "    print(x)"
   ]
  },
  {
   "cell_type": "code",
   "execution_count": 7,
   "id": "e23879f1",
   "metadata": {},
   "outputs": [],
   "source": [
    "db=mysql.connector.connect(\n",
    "    host='localhost',\n",
    "    user='sumayyah',\n",
    "    password='afridi24.',\n",
    "    database='MIS'\n",
    "    )"
   ]
  },
  {
   "cell_type": "code",
   "execution_count": 8,
   "id": "038d99c9",
   "metadata": {},
   "outputs": [],
   "source": [
    "c=db.cursor()\n",
    "\n",
    "c.execute(\"SHOW TABLES\")"
   ]
  },
  {
   "cell_type": "code",
   "execution_count": 9,
   "id": "d31b4a19",
   "metadata": {},
   "outputs": [
    {
     "name": "stdout",
     "output_type": "stream",
     "text": [
      "('Employees',)\n",
      "('Products',)\n"
     ]
    }
   ],
   "source": [
    "for x in c:\n",
    "    print(x)"
   ]
  },
  {
   "cell_type": "code",
   "execution_count": 13,
   "id": "85c6d407",
   "metadata": {},
   "outputs": [],
   "source": [
    "c.execute(\"SELECT * FROM Products\")"
   ]
  },
  {
   "cell_type": "code",
   "execution_count": 12,
   "id": "e5811af9",
   "metadata": {},
   "outputs": [],
   "source": [
    "m = c.fetchall()\n",
    "\n",
    "for x in m:\n",
    "  print(x)"
   ]
  },
  {
   "cell_type": "code",
   "execution_count": null,
   "id": "a0a49fdd",
   "metadata": {},
   "outputs": [],
   "source": []
  }
 ],
 "metadata": {
  "kernelspec": {
   "display_name": "Python 3",
   "language": "python",
   "name": "python3"
  },
  "language_info": {
   "codemirror_mode": {
    "name": "ipython",
    "version": 3
   },
   "file_extension": ".py",
   "mimetype": "text/x-python",
   "name": "python",
   "nbconvert_exporter": "python",
   "pygments_lexer": "ipython3",
   "version": "3.8.8"
  }
 },
 "nbformat": 4,
 "nbformat_minor": 5
}
