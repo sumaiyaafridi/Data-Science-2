{
 "cells": [
  {
   "cell_type": "code",
   "execution_count": 31,
   "id": "3d8e1a54",
   "metadata": {},
   "outputs": [
    {
     "data": {
      "text/html": [
       "<div>\n",
       "<style scoped>\n",
       "    .dataframe tbody tr th:only-of-type {\n",
       "        vertical-align: middle;\n",
       "    }\n",
       "\n",
       "    .dataframe tbody tr th {\n",
       "        vertical-align: top;\n",
       "    }\n",
       "\n",
       "    .dataframe thead th {\n",
       "        text-align: right;\n",
       "    }\n",
       "</style>\n",
       "<table border=\"1\" class=\"dataframe\">\n",
       "  <thead>\n",
       "    <tr style=\"text-align: right;\">\n",
       "      <th></th>\n",
       "      <th>ALTCODE</th>\n",
       "      <th>NAME</th>\n",
       "      <th>DEGREE_CODE</th>\n",
       "      <th>SEM_CODE</th>\n",
       "      <th>NAME2</th>\n",
       "      <th>CRHRS</th>\n",
       "      <th>MARKS</th>\n",
       "      <th>POINTS</th>\n",
       "      <th>EMP_ID</th>\n",
       "      <th>NAME3</th>\n",
       "      <th>SEMESTER</th>\n",
       "      <th>SECCORSCODE</th>\n",
       "      <th>SEX</th>\n",
       "      <th>INACTIVE</th>\n",
       "    </tr>\n",
       "  </thead>\n",
       "  <tbody>\n",
       "    <tr>\n",
       "      <th>0</th>\n",
       "      <td>16550</td>\n",
       "      <td>Muhammad Ali Khan</td>\n",
       "      <td>BS(SE)</td>\n",
       "      <td>CSD-SPRING-20</td>\n",
       "      <td>HUMAN COMPUTER INTERACTION</td>\n",
       "      <td>3</td>\n",
       "      <td>74.0</td>\n",
       "      <td>3.0</td>\n",
       "      <td>104-17-1003</td>\n",
       "      <td>Shahab ul Islam</td>\n",
       "      <td>INU-19</td>\n",
       "      <td>102002044</td>\n",
       "      <td>M</td>\n",
       "      <td>N</td>\n",
       "    </tr>\n",
       "  </tbody>\n",
       "</table>\n",
       "</div>"
      ],
      "text/plain": [
       "   ALTCODE               NAME DEGREE_CODE       SEM_CODE  \\\n",
       "0    16550  Muhammad Ali Khan      BS(SE)  CSD-SPRING-20   \n",
       "\n",
       "                        NAME2  CRHRS  MARKS  POINTS       EMP_ID  \\\n",
       "0  HUMAN COMPUTER INTERACTION      3   74.0     3.0  104-17-1003   \n",
       "\n",
       "             NAME3 SEMESTER  SECCORSCODE SEX INACTIVE  \n",
       "0  Shahab ul Islam   INU-19    102002044   M        N  "
      ]
     },
     "execution_count": 31,
     "metadata": {},
     "output_type": "execute_result"
    }
   ],
   "source": [
    "import pandas as pd\n",
    "\n",
    "df=pd.read_excel(r's1.xlsx');\n",
    "\n",
    "df=pd.DataFrame(df)\n",
    "\n",
    "df.head(1)"
   ]
  },
  {
   "cell_type": "code",
   "execution_count": 38,
   "id": "95a76408",
   "metadata": {},
   "outputs": [],
   "source": [
    "# df.count()"
   ]
  },
  {
   "cell_type": "code",
   "execution_count": 33,
   "id": "346c6076",
   "metadata": {},
   "outputs": [
    {
     "data": {
      "text/html": [
       "<div>\n",
       "<style scoped>\n",
       "    .dataframe tbody tr th:only-of-type {\n",
       "        vertical-align: middle;\n",
       "    }\n",
       "\n",
       "    .dataframe tbody tr th {\n",
       "        vertical-align: top;\n",
       "    }\n",
       "\n",
       "    .dataframe thead th {\n",
       "        text-align: right;\n",
       "    }\n",
       "</style>\n",
       "<table border=\"1\" class=\"dataframe\">\n",
       "  <thead>\n",
       "    <tr style=\"text-align: right;\">\n",
       "      <th></th>\n",
       "      <th>ALTCODE</th>\n",
       "      <th>NAME</th>\n",
       "      <th>DEGREE_CODE</th>\n",
       "      <th>SEM_CODE</th>\n",
       "      <th>NAME2</th>\n",
       "      <th>CRHRS</th>\n",
       "      <th>MARKS</th>\n",
       "      <th>POINTS</th>\n",
       "      <th>EMP_ID</th>\n",
       "      <th>NAME3</th>\n",
       "      <th>SEMESTER</th>\n",
       "      <th>SECCORSCODE</th>\n",
       "      <th>SEX</th>\n",
       "      <th>INACTIVE</th>\n",
       "    </tr>\n",
       "  </thead>\n",
       "  <tbody>\n",
       "    <tr>\n",
       "      <th>1723</th>\n",
       "      <td>16453</td>\n",
       "      <td>Abdullah Abid</td>\n",
       "      <td>BS(SE)</td>\n",
       "      <td>CSD-FALL-20</td>\n",
       "      <td>DIGITAL LOGIC &amp; DESIGN(LAB)</td>\n",
       "      <td>1</td>\n",
       "      <td>0.0</td>\n",
       "      <td>NaN</td>\n",
       "      <td>104-17-1025</td>\n",
       "      <td>Muhammad Khalid Hamid</td>\n",
       "      <td>INU-19</td>\n",
       "      <td>102010075</td>\n",
       "      <td>M</td>\n",
       "      <td>N</td>\n",
       "    </tr>\n",
       "  </tbody>\n",
       "</table>\n",
       "</div>"
      ],
      "text/plain": [
       "      ALTCODE           NAME DEGREE_CODE     SEM_CODE  \\\n",
       "1723    16453  Abdullah Abid      BS(SE)  CSD-FALL-20   \n",
       "\n",
       "                            NAME2  CRHRS  MARKS  POINTS       EMP_ID  \\\n",
       "1723  DIGITAL LOGIC & DESIGN(LAB)      1    0.0     NaN  104-17-1025   \n",
       "\n",
       "                      NAME3 SEMESTER  SECCORSCODE SEX INACTIVE  \n",
       "1723  Muhammad Khalid Hamid   INU-19    102010075   M        N  "
      ]
     },
     "execution_count": 33,
     "metadata": {},
     "output_type": "execute_result"
    }
   ],
   "source": [
    "df2 = df[df['MARKS']<60]\n",
    "\n",
    "df2.tail(1)"
   ]
  },
  {
   "cell_type": "code",
   "execution_count": 37,
   "id": "61fcfdf5",
   "metadata": {},
   "outputs": [],
   "source": [
    "# df.count()"
   ]
  },
  {
   "cell_type": "code",
   "execution_count": 39,
   "id": "e0abf2e0",
   "metadata": {},
   "outputs": [],
   "source": [
    "df3=df[df['MARKS']>60]"
   ]
  },
  {
   "cell_type": "code",
   "execution_count": 40,
   "id": "b707dae5",
   "metadata": {},
   "outputs": [
    {
     "data": {
      "text/html": [
       "<div>\n",
       "<style scoped>\n",
       "    .dataframe tbody tr th:only-of-type {\n",
       "        vertical-align: middle;\n",
       "    }\n",
       "\n",
       "    .dataframe tbody tr th {\n",
       "        vertical-align: top;\n",
       "    }\n",
       "\n",
       "    .dataframe thead th {\n",
       "        text-align: right;\n",
       "    }\n",
       "</style>\n",
       "<table border=\"1\" class=\"dataframe\">\n",
       "  <thead>\n",
       "    <tr style=\"text-align: right;\">\n",
       "      <th></th>\n",
       "      <th>ALTCODE</th>\n",
       "      <th>NAME</th>\n",
       "      <th>DEGREE_CODE</th>\n",
       "      <th>SEM_CODE</th>\n",
       "      <th>NAME2</th>\n",
       "      <th>CRHRS</th>\n",
       "      <th>MARKS</th>\n",
       "      <th>POINTS</th>\n",
       "      <th>EMP_ID</th>\n",
       "      <th>NAME3</th>\n",
       "      <th>SEMESTER</th>\n",
       "      <th>SECCORSCODE</th>\n",
       "      <th>SEX</th>\n",
       "      <th>INACTIVE</th>\n",
       "    </tr>\n",
       "  </thead>\n",
       "  <tbody>\n",
       "    <tr>\n",
       "      <th>0</th>\n",
       "      <td>16550</td>\n",
       "      <td>Muhammad Ali Khan</td>\n",
       "      <td>BS(SE)</td>\n",
       "      <td>CSD-SPRING-20</td>\n",
       "      <td>HUMAN COMPUTER INTERACTION</td>\n",
       "      <td>3</td>\n",
       "      <td>74.0</td>\n",
       "      <td>3.0</td>\n",
       "      <td>104-17-1003</td>\n",
       "      <td>Shahab ul Islam</td>\n",
       "      <td>INU-19</td>\n",
       "      <td>102002044</td>\n",
       "      <td>M</td>\n",
       "      <td>N</td>\n",
       "    </tr>\n",
       "    <tr>\n",
       "      <th>1</th>\n",
       "      <td>16550</td>\n",
       "      <td>Muhammad Ali Khan</td>\n",
       "      <td>BS(SE)</td>\n",
       "      <td>CSD-SPRING-20</td>\n",
       "      <td>INFORMATION SYSTEM &amp; DATA PROCESSING</td>\n",
       "      <td>3</td>\n",
       "      <td>84.0</td>\n",
       "      <td>3.5</td>\n",
       "      <td>104-19-1026</td>\n",
       "      <td>Muhammad Abrar Khan</td>\n",
       "      <td>INU-19</td>\n",
       "      <td>102002045</td>\n",
       "      <td>M</td>\n",
       "      <td>N</td>\n",
       "    </tr>\n",
       "  </tbody>\n",
       "</table>\n",
       "</div>"
      ],
      "text/plain": [
       "   ALTCODE               NAME DEGREE_CODE       SEM_CODE  \\\n",
       "0    16550  Muhammad Ali Khan      BS(SE)  CSD-SPRING-20   \n",
       "1    16550  Muhammad Ali Khan      BS(SE)  CSD-SPRING-20   \n",
       "\n",
       "                                  NAME2  CRHRS  MARKS  POINTS       EMP_ID  \\\n",
       "0            HUMAN COMPUTER INTERACTION      3   74.0     3.0  104-17-1003   \n",
       "1  INFORMATION SYSTEM & DATA PROCESSING      3   84.0     3.5  104-19-1026   \n",
       "\n",
       "                 NAME3 SEMESTER  SECCORSCODE SEX INACTIVE  \n",
       "0      Shahab ul Islam   INU-19    102002044   M        N  \n",
       "1  Muhammad Abrar Khan   INU-19    102002045   M        N  "
      ]
     },
     "execution_count": 40,
     "metadata": {},
     "output_type": "execute_result"
    }
   ],
   "source": [
    "df3.head(2)"
   ]
  },
  {
   "cell_type": "code",
   "execution_count": 42,
   "id": "2d178479",
   "metadata": {},
   "outputs": [],
   "source": [
    "# df3.count()"
   ]
  },
  {
   "cell_type": "code",
   "execution_count": 3,
   "id": "20a7e525",
   "metadata": {},
   "outputs": [],
   "source": [
    "df3.to_excel(\"output.xlsx\") "
   ]
  },
  {
   "cell_type": "code",
   "execution_count": 45,
   "id": "17cbf07f",
   "metadata": {},
   "outputs": [],
   "source": [
    "x=18+17+19+19"
   ]
  },
  {
   "cell_type": "code",
   "execution_count": 46,
   "id": "b1b124a1",
   "metadata": {},
   "outputs": [
    {
     "data": {
      "text/plain": [
       "18.25"
      ]
     },
     "execution_count": 46,
     "metadata": {},
     "output_type": "execute_result"
    }
   ],
   "source": [
    "x/4"
   ]
  },
  {
   "cell_type": "code",
   "execution_count": 47,
   "id": "16beaa55",
   "metadata": {},
   "outputs": [],
   "source": [
    "df4=df['MARKS'].mean()"
   ]
  },
  {
   "cell_type": "code",
   "execution_count": 48,
   "id": "d12481b7",
   "metadata": {},
   "outputs": [
    {
     "data": {
      "text/plain": [
       "64.57464324917673"
      ]
     },
     "execution_count": 48,
     "metadata": {},
     "output_type": "execute_result"
    }
   ],
   "source": [
    "df4"
   ]
  },
  {
   "cell_type": "code",
   "execution_count": 50,
   "id": "f9e95420",
   "metadata": {},
   "outputs": [
    {
     "data": {
      "text/plain": [
       "27.37821968225589"
      ]
     },
     "execution_count": 50,
     "metadata": {},
     "output_type": "execute_result"
    }
   ],
   "source": [
    "df5=df['MARKS'].std()\n",
    "df5"
   ]
  },
  {
   "cell_type": "code",
   "execution_count": 51,
   "id": "07033386",
   "metadata": {},
   "outputs": [
    {
     "data": {
      "text/plain": [
       "749.5669129698638"
      ]
     },
     "execution_count": 51,
     "metadata": {},
     "output_type": "execute_result"
    }
   ],
   "source": [
    "df6=df['MARKS'].var()\n",
    "df6"
   ]
  },
  {
   "cell_type": "code",
   "execution_count": 13,
   "id": "b4e96af1",
   "metadata": {},
   "outputs": [],
   "source": []
  },
  {
   "cell_type": "code",
   "execution_count": 18,
   "id": "3c933861",
   "metadata": {},
   "outputs": [
    {
     "data": {
      "text/plain": [
       "0.0"
      ]
     },
     "execution_count": 18,
     "metadata": {},
     "output_type": "execute_result"
    }
   ],
   "source": [
    "df['MARKS'].min()"
   ]
  },
  {
   "cell_type": "code",
   "execution_count": 19,
   "id": "0b09ab77",
   "metadata": {},
   "outputs": [
    {
     "data": {
      "text/plain": [
       "100.0"
      ]
     },
     "execution_count": 19,
     "metadata": {},
     "output_type": "execute_result"
    }
   ],
   "source": [
    "df['MARKS'].max()"
   ]
  },
  {
   "cell_type": "code",
   "execution_count": 20,
   "id": "c777caa1",
   "metadata": {},
   "outputs": [
    {
     "data": {
      "text/plain": [
       "0    0.0\n",
       "dtype: float64"
      ]
     },
     "execution_count": 20,
     "metadata": {},
     "output_type": "execute_result"
    }
   ],
   "source": [
    "df['MARKS'].mode()"
   ]
  },
  {
   "cell_type": "code",
   "execution_count": 21,
   "id": "0fd56886",
   "metadata": {},
   "outputs": [
    {
     "data": {
      "text/plain": [
       "0.0"
      ]
     },
     "execution_count": 21,
     "metadata": {},
     "output_type": "execute_result"
    }
   ],
   "source": [
    "df['MARKS'].product()"
   ]
  },
  {
   "cell_type": "code",
   "execution_count": 22,
   "id": "4f5d09ce",
   "metadata": {},
   "outputs": [
    {
     "data": {
      "text/plain": [
       "117655.0"
      ]
     },
     "execution_count": 22,
     "metadata": {},
     "output_type": "execute_result"
    }
   ],
   "source": [
    "df['MARKS'].sum()"
   ]
  },
  {
   "cell_type": "code",
   "execution_count": 25,
   "id": "a206a148",
   "metadata": {},
   "outputs": [
    {
     "data": {
      "text/plain": [
       "1822"
      ]
     },
     "execution_count": 25,
     "metadata": {},
     "output_type": "execute_result"
    }
   ],
   "source": [
    "df['MARKS'].count()"
   ]
  },
  {
   "cell_type": "code",
   "execution_count": 54,
   "id": "dcc60048",
   "metadata": {},
   "outputs": [
    {
     "data": {
      "image/png": "[encoded data removed]",
      "text/plain": [
       "<Figure size 432x288 with 1 Axes>"
      ]
     },
     "metadata": {
      "needs_background": "light"
     },
     "output_type": "display_data"
    }
   ],
   "source": [
    "import matplotlib.pyplot as plt\n",
    "\n",
    "\n",
    "x = ['A','B','C']\n",
    "y = [1,2,3]\n",
    "\n",
    "plt.bar(x,y)\n",
    "\n",
    "plt.show()"
   ]
  },
  {
   "cell_type": "code",
   "execution_count": 55,
   "id": "ca2d4a04",
   "metadata": {},
   "outputs": [
    {
     "data": {
      "image/png": "[encoded data removed]",
      "text/plain": [
       "<Figure size 432x288 with 1 Axes>"
      ]
     },
     "metadata": {
      "needs_background": "light"
     },
     "output_type": "display_data"
    }
   ],
   "source": [
    "import matplotlib.pyplot as plt\n",
    "\n",
    "\n",
    "x = ['A','B','C']\n",
    "y = [20,98,2]\n",
    "\n",
    "plt.bar(x,y)\n",
    "plt.show()\n"
   ]
  },
  {
   "cell_type": "code",
   "execution_count": null,
   "id": "8a223e5e",
   "metadata": {},
   "outputs": [],
   "source": []
  }
 ],
 "metadata": {
  "kernelspec": {
   "display_name": "Python 3",
   "language": "python",
   "name": "python3"
  },
  "language_info": {
   "codemirror_mode": {
    "name": "ipython",
    "version": 3
   },
   "file_extension": ".py",
   "mimetype": "text/x-python",
   "name": "python",
   "nbconvert_exporter": "python",
   "pygments_lexer": "ipython3",
   "version": "3.8.8"
  }
 },
 "nbformat": 4,
 "nbformat_minor": 5
}
