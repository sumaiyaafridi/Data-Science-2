{
 "cells": [
  {
   "cell_type": "code",
   "execution_count": 2,
   "id": "27334350",
   "metadata": {},
   "outputs": [
    {
     "name": "stdout",
     "output_type": "stream",
     "text": [
      "P\n",
      "a\n",
      "k\n",
      "i\n",
      "s\n",
      "t\n",
      "a\n",
      "n\n"
     ]
    }
   ],
   "source": [
    "x='Pakistan'\n",
    "\n",
    "for i in x:\n",
    "    print(i)"
   ]
  },
  {
   "cell_type": "code",
   "execution_count": 3,
   "id": "a024f010",
   "metadata": {},
   "outputs": [
    {
     "name": "stdout",
     "output_type": "stream",
     "text": [
      "1\n",
      "2\n",
      "3\n",
      "4\n",
      "5\n"
     ]
    }
   ],
   "source": [
    "x=[1,2,3,4,5]\n",
    "\n",
    "for i in x:\n",
    "    print(i)"
   ]
  },
  {
   "cell_type": "code",
   "execution_count": null,
   "id": "8b505709",
   "metadata": {},
   "outputs": [],
   "source": [
    "a=df[df['score']>60]"
   ]
  },
  {
   "cell_type": "code",
   "execution_count": null,
   "id": "be2ac5c6",
   "metadata": {},
   "outputs": [],
   "source": [
    "map(function, iterator)"
   ]
  },
  {
   "cell_type": "code",
   "execution_count": 12,
   "id": "e52a5d04",
   "metadata": {},
   "outputs": [],
   "source": [
    "def add(a,b):\n",
    "    return a+b"
   ]
  },
  {
   "cell_type": "code",
   "execution_count": 18,
   "id": "60502f75",
   "metadata": {},
   "outputs": [],
   "source": [
    "def add():\n",
    "    a=2\n",
    "    b=3\n",
    "    return a+b"
   ]
  },
  {
   "cell_type": "code",
   "execution_count": 19,
   "id": "9ad234f3",
   "metadata": {},
   "outputs": [
    {
     "data": {
      "text/plain": [
       "5"
      ]
     },
     "execution_count": 19,
     "metadata": {},
     "output_type": "execute_result"
    }
   ],
   "source": [
    "add()"
   ]
  },
  {
   "cell_type": "code",
   "execution_count": 16,
   "id": "f39d024e",
   "metadata": {},
   "outputs": [
    {
     "data": {
      "text/plain": [
       "40013"
      ]
     },
     "execution_count": 16,
     "metadata": {},
     "output_type": "execute_result"
    }
   ],
   "source": [
    "add(13,40000)"
   ]
  },
  {
   "cell_type": "code",
   "execution_count": 21,
   "id": "329ab644",
   "metadata": {},
   "outputs": [],
   "source": [
    "def subt(a,b,c):\n",
    "    return a-b-c"
   ]
  },
  {
   "cell_type": "code",
   "execution_count": 25,
   "id": "404646c8",
   "metadata": {},
   "outputs": [
    {
     "data": {
      "text/plain": [
       "-6"
      ]
     },
     "execution_count": 25,
     "metadata": {},
     "output_type": "execute_result"
    }
   ],
   "source": [
    "subt(2,3,5)"
   ]
  },
  {
   "cell_type": "code",
   "execution_count": 1,
   "id": "1abd1f2e",
   "metadata": {},
   "outputs": [],
   "source": [
    "def myfunc(a, b,c):\n",
    "  return a + b+c\n",
    "\n",
    "x = map(myfunc, ('a+', 'b+', 'c+'), ('orange', 'lemon', 'pineapple'), ('orange', 'lemon', 'pineapple')) "
   ]
  },
  {
   "cell_type": "code",
   "execution_count": 2,
   "id": "592a7048",
   "metadata": {},
   "outputs": [
    {
     "name": "stdout",
     "output_type": "stream",
     "text": [
      "['a+orangeorange', 'b+lemonlemon', 'c+pineapplepineapple']\n"
     ]
    }
   ],
   "source": [
    "print(list(x))"
   ]
  },
  {
   "cell_type": "code",
   "execution_count": 37,
   "id": "2f412f1f",
   "metadata": {},
   "outputs": [
    {
     "name": "stdout",
     "output_type": "stream",
     "text": [
      "[3, 4, 6, 8]\n"
     ]
    }
   ],
   "source": [
    "def addition(a,b):\n",
    "    return a + b\n",
    "  \n",
    "# We double all numbers using map()\n",
    "numbers = (1, 2, 3, 4)\n",
    "numbers2 = (2, 2, 3, 4)\n",
    "result = map(addition, (numbers), (numbers2))\n",
    "print(list(result))"
   ]
  },
  {
   "cell_type": "code",
   "execution_count": 38,
   "id": "e3991c6a",
   "metadata": {},
   "outputs": [
    {
     "name": "stdout",
     "output_type": "stream",
     "text": [
      "[-1, 0, 0, 0]\n"
     ]
    }
   ],
   "source": [
    "def sub(a,b):\n",
    "    return a - b\n",
    "  \n",
    "# We double all numbers using map()\n",
    "numbers = (1, 2, 3, 4)\n",
    "numbers2 = (2, 2, 3, 4)\n",
    "result = map(sub, (numbers), (numbers2))\n",
    "print(list(result))"
   ]
  },
  {
   "cell_type": "code",
   "execution_count": 39,
   "id": "3e6fd2a2",
   "metadata": {},
   "outputs": [
    {
     "name": "stdout",
     "output_type": "stream",
     "text": [
      "[2, 4, 9, 16]\n"
     ]
    }
   ],
   "source": [
    "def mul(a,b):\n",
    "    return a * b\n",
    "  \n",
    "# We double all numbers using map()\n",
    "numbers = (1, 2, 3, 4)\n",
    "numbers2 = (2, 2, 3, 4)\n",
    "result = map(mul, (numbers), (numbers2))\n",
    "print(list(result))"
   ]
  },
  {
   "cell_type": "markdown",
   "id": "694bd97b",
   "metadata": {},
   "source": [
    "### map(function, data) "
   ]
  },
  {
   "cell_type": "code",
   "execution_count": 40,
   "id": "dcc268a7",
   "metadata": {},
   "outputs": [
    {
     "name": "stdout",
     "output_type": "stream",
     "text": [
      "[0.5, 1.0, 1.0, 1.0]\n"
     ]
    }
   ],
   "source": [
    "def div(a,b):\n",
    "    return a / b\n",
    "  \n",
    "# We double all numbers using map()\n",
    "numbers = (1, 2, 3, 4)\n",
    "numbers2 = (2, 2, 3, 4)\n",
    "result = map(div, (numbers), (numbers2))\n",
    "print(list(result))"
   ]
  },
  {
   "cell_type": "code",
   "execution_count": 31,
   "id": "92840b1a",
   "metadata": {},
   "outputs": [
    {
     "name": "stdout",
     "output_type": "stream",
     "text": [
      "[2, 4, 6, 8]\n"
     ]
    }
   ],
   "source": [
    "def addition(n):\n",
    "    return n + n\n",
    "  \n",
    "# We double all numbers using map()\n",
    "numbers = (1, 2, 3, 4)\n",
    "numbers2 = (2, 2, 3, 4)\n",
    "result = map(addition, numbers)\n",
    "print(list(result))"
   ]
  },
  {
   "cell_type": "code",
   "execution_count": 7,
   "id": "a8371725",
   "metadata": {},
   "outputs": [
    {
     "name": "stdout",
     "output_type": "stream",
     "text": [
      "<map object at 0x7fb3a005e7f0>\n"
     ]
    }
   ],
   "source": [
    "print(result)"
   ]
  },
  {
   "cell_type": "code",
   "execution_count": 19,
   "id": "aaa2de47",
   "metadata": {},
   "outputs": [
    {
     "name": "stdout",
     "output_type": "stream",
     "text": [
      "[2, 4, 6, 8]\n"
     ]
    }
   ],
   "source": [
    "def addition(n):\n",
    "    return n + n\n",
    "  \n",
    "# We double all numbers using map()\n",
    "numbers = (1, 2, 3, 4)\n",
    "result = map(addition, numbers)\n",
    "print(list(result))"
   ]
  },
  {
   "cell_type": "code",
   "execution_count": 21,
   "id": "35121957",
   "metadata": {},
   "outputs": [
    {
     "name": "stdout",
     "output_type": "stream",
     "text": [
      "[['s', 'a', 't'], ['b', 'a', 't'], ['c', 'a', 't'], ['m', 'a', 't']]\n"
     ]
    }
   ],
   "source": [
    "l = ['sat', 'bat', 'cat', 'mat']\n",
    "  \n",
    "# map() can listify the list of strings individually\n",
    "test = list(map(list, l))\n",
    "print(test)"
   ]
  },
  {
   "cell_type": "code",
   "execution_count": 22,
   "id": "a5f06ba9",
   "metadata": {},
   "outputs": [
    {
     "data": {
      "text/plain": [
       "[128, 64]"
      ]
     },
     "execution_count": 22,
     "metadata": {},
     "output_type": "execute_result"
    }
   ],
   "source": [
    "list(map(pow, (2, 4), (7, 3)))"
   ]
  },
  {
   "cell_type": "markdown",
   "id": "1fa51302",
   "metadata": {},
   "source": [
    "####  n! 7! 7x6x5x4x3x2x1"
   ]
  },
  {
   "cell_type": "markdown",
   "id": "70a75a90",
   "metadata": {},
   "source": [
    "#### 3! 3x2x1=6"
   ]
  },
  {
   "cell_type": "markdown",
   "id": "fe6da615",
   "metadata": {},
   "source": [
    "#### 6!  6x5x4x3x2x1="
   ]
  },
  {
   "cell_type": "code",
   "execution_count": 23,
   "id": "2ac2cb93",
   "metadata": {},
   "outputs": [
    {
     "data": {
      "text/plain": [
       "[1, 2, 6, 24, 120, 720, 5040]"
      ]
     },
     "execution_count": 23,
     "metadata": {},
     "output_type": "execute_result"
    }
   ],
   "source": [
    "import math   \n",
    "\n",
    "numbers = [1, 2, 3, 4, 5, 6, 7]\n",
    "\n",
    "list(map(math.factorial, numbers))"
   ]
  },
  {
   "cell_type": "code",
   "execution_count": 42,
   "id": "1871ce0d",
   "metadata": {},
   "outputs": [
    {
     "data": {
      "text/plain": [
       "4"
      ]
     },
     "execution_count": 42,
     "metadata": {},
     "output_type": "execute_result"
    }
   ],
   "source": [
    "2**2  #2x2=4"
   ]
  },
  {
   "cell_type": "code",
   "execution_count": 45,
   "id": "e0bdd6d3",
   "metadata": {},
   "outputs": [
    {
     "data": {
      "text/plain": [
       "8"
      ]
     },
     "execution_count": 45,
     "metadata": {},
     "output_type": "execute_result"
    }
   ],
   "source": [
    "2**3 #2x2x2=8"
   ]
  },
  {
   "cell_type": "code",
   "execution_count": 46,
   "id": "7b2d4e9e",
   "metadata": {},
   "outputs": [
    {
     "data": {
      "text/plain": [
       "[(1, 1), (4, 8), (9, 27), (16, 64)]"
      ]
     },
     "execution_count": 46,
     "metadata": {},
     "output_type": "execute_result"
    }
   ],
   "source": [
    "def powers(x):\n",
    "    return x ** 2, x ** 3\n",
    "\n",
    "numbers = [1, 2, 3, 4]\n",
    "\n",
    "list(map(powers, numbers))"
   ]
  },
  {
   "cell_type": "code",
   "execution_count": 25,
   "id": "7e2aee14",
   "metadata": {},
   "outputs": [
    {
     "data": {
      "text/plain": [
       "[212.0, 104.0, 176.0]"
      ]
     },
     "execution_count": 25,
     "metadata": {},
     "output_type": "execute_result"
    }
   ],
   "source": [
    "def to_fahrenheit(c):\n",
    "    return 9 / 5 * c + 32\n",
    "\n",
    "celsius_temps = [100, 40, 80]\n",
    "\n",
    "list(map(to_fahrenheit, celsius_temps))"
   ]
  },
  {
   "cell_type": "code",
   "execution_count": 34,
   "id": "bc6fefcf",
   "metadata": {},
   "outputs": [
    {
     "data": {
      "text/plain": [
       "[1, 4, 27]"
      ]
     },
     "execution_count": 34,
     "metadata": {},
     "output_type": "execute_result"
    }
   ],
   "source": [
    "def pow(x,y):\n",
    "    return x**y\n",
    "\n",
    "l1=[1,2,3]\n",
    "l2=[1,2,3]\n",
    "list(map(pow,(l1),(l2)))"
   ]
  },
  {
   "cell_type": "code",
   "execution_count": null,
   "id": "2d66928d",
   "metadata": {},
   "outputs": [],
   "source": []
  }
 ],
 "metadata": {
  "kernelspec": {
   "display_name": "Python 3",
   "language": "python",
   "name": "python3"
  },
  "language_info": {
   "codemirror_mode": {
    "name": "ipython",
    "version": 3
   },
   "file_extension": ".py",
   "mimetype": "text/x-python",
   "name": "python",
   "nbconvert_exporter": "python",
   "pygments_lexer": "ipython3",
   "version": "3.8.8"
  }
 },
 "nbformat": 4,
 "nbformat_minor": 5
}
