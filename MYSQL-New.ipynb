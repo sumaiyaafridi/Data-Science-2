{
 "cells": [
  {
   "cell_type": "code",
   "execution_count": 1,
   "id": "a0d00ba2",
   "metadata": {},
   "outputs": [],
   "source": [
    "import mysql.connector"
   ]
  },
  {
   "cell_type": "code",
   "execution_count": 2,
   "id": "07ca2a01",
   "metadata": {},
   "outputs": [],
   "source": [
    "db = mysql.connector.connect(\n",
    "  host=\"localhost\",\n",
    "  user=\"sumayyah\",\n",
    "  password=\"afridi24.\"\n",
    ")"
   ]
  },
  {
   "cell_type": "markdown",
   "id": "5edabd7b",
   "metadata": {},
   "source": [
    "## QUERIES"
   ]
  },
  {
   "cell_type": "code",
   "execution_count": 24,
   "id": "60a921db",
   "metadata": {},
   "outputs": [],
   "source": [
    "c=db.cursor()\n",
    "\n",
    "c.execute(\"USE Star\")"
   ]
  },
  {
   "cell_type": "code",
   "execution_count": 25,
   "id": "7c296d7d",
   "metadata": {},
   "outputs": [],
   "source": [
    "c.execute(\"SELECT DATABASE()\")"
   ]
  },
  {
   "cell_type": "code",
   "execution_count": 26,
   "id": "3238306e",
   "metadata": {},
   "outputs": [
    {
     "name": "stdout",
     "output_type": "stream",
     "text": [
      "('Star',)\n"
     ]
    }
   ],
   "source": [
    "for i in c:\n",
    "    print(i)"
   ]
  },
  {
   "cell_type": "code",
   "execution_count": 27,
   "id": "f98b01a3",
   "metadata": {},
   "outputs": [],
   "source": [
    "c.execute(\"SHOW TABLES\")"
   ]
  },
  {
   "cell_type": "code",
   "execution_count": 28,
   "id": "b1141b1f",
   "metadata": {},
   "outputs": [
    {
     "name": "stdout",
     "output_type": "stream",
     "text": [
      "('Flights',)\n",
      "('Users',)\n"
     ]
    }
   ],
   "source": [
    "for i in c:\n",
    "    print(i)"
   ]
  },
  {
   "cell_type": "code",
   "execution_count": 29,
   "id": "9a583666",
   "metadata": {},
   "outputs": [],
   "source": [
    "c.execute(\"SHOW COLUMNS FROM Users\")"
   ]
  },
  {
   "cell_type": "code",
   "execution_count": 30,
   "id": "6aa9ddd7",
   "metadata": {},
   "outputs": [
    {
     "name": "stdout",
     "output_type": "stream",
     "text": [
      "('Id', b'int', 'NO', 'PRI', None, '')\n",
      "('Username', b'varchar(255)', 'NO', '', None, '')\n",
      "('Passcode', b'varchar(255)', 'NO', '', None, '')\n"
     ]
    }
   ],
   "source": [
    "for i in c:\n",
    "    print(i)"
   ]
  },
  {
   "cell_type": "markdown",
   "id": "6ebe42df",
   "metadata": {},
   "source": [
    "##### previous query can be written as following"
   ]
  },
  {
   "cell_type": "code",
   "execution_count": 31,
   "id": "cdbd640e",
   "metadata": {},
   "outputs": [],
   "source": [
    "c.execute(\"DESC Users\")"
   ]
  },
  {
   "cell_type": "code",
   "execution_count": 32,
   "id": "ca06b43b",
   "metadata": {},
   "outputs": [
    {
     "name": "stdout",
     "output_type": "stream",
     "text": [
      "('Id', b'int', 'NO', 'PRI', None, '')\n",
      "('Username', b'varchar(255)', 'NO', '', None, '')\n",
      "('Passcode', b'varchar(255)', 'NO', '', None, '')\n"
     ]
    }
   ],
   "source": [
    "for i in c:\n",
    "    print(i)"
   ]
  },
  {
   "cell_type": "code",
   "execution_count": null,
   "id": "6f4c35c6",
   "metadata": {},
   "outputs": [],
   "source": []
  },
  {
   "cell_type": "markdown",
   "id": "db94e542",
   "metadata": {},
   "source": [
    "### create a databse for flights"
   ]
  },
  {
   "cell_type": "code",
   "execution_count": null,
   "id": "49893b26",
   "metadata": {},
   "outputs": [],
   "source": []
  },
  {
   "cell_type": "markdown",
   "id": "28b8a48c",
   "metadata": {},
   "source": [
    "### create two cloumns (flight_id, flight_name)"
   ]
  },
  {
   "cell_type": "code",
   "execution_count": null,
   "id": "3c10b6d0",
   "metadata": {},
   "outputs": [],
   "source": []
  },
  {
   "cell_type": "markdown",
   "id": "bc6e8930",
   "metadata": {},
   "source": [
    "### Insert 4 or 5 data items into table flights"
   ]
  },
  {
   "cell_type": "code",
   "execution_count": null,
   "id": "73fdec07",
   "metadata": {},
   "outputs": [],
   "source": []
  },
  {
   "cell_type": "markdown",
   "id": "6485470c",
   "metadata": {},
   "source": [
    "### display all rows"
   ]
  },
  {
   "cell_type": "code",
   "execution_count": 34,
   "id": "8eb0e124",
   "metadata": {},
   "outputs": [],
   "source": [
    "c.execute(\"SELECT * FROM Flights\")"
   ]
  },
  {
   "cell_type": "markdown",
   "id": "cd1a3881",
   "metadata": {},
   "source": [
    "### display flight_name only"
   ]
  },
  {
   "cell_type": "code",
   "execution_count": null,
   "id": "ccd7f256",
   "metadata": {},
   "outputs": [],
   "source": []
  }
 ],
 "metadata": {
  "kernelspec": {
   "display_name": "Python 3",
   "language": "python",
   "name": "python3"
  },
  "language_info": {
   "codemirror_mode": {
    "name": "ipython",
    "version": 3
   },
   "file_extension": ".py",
   "mimetype": "text/x-python",
   "name": "python",
   "nbconvert_exporter": "python",
   "pygments_lexer": "ipython3",
   "version": "3.8.8"
  }
 },
 "nbformat": 4,
 "nbformat_minor": 5
}
