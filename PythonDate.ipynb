{
 "cells": [
  {
   "cell_type": "code",
   "execution_count": 41,
   "id": "d5100a4f",
   "metadata": {},
   "outputs": [],
   "source": [
    "import datetime as dt  #used for date time"
   ]
  },
  {
   "cell_type": "code",
   "execution_count": 55,
   "id": "a0c7e07a",
   "metadata": {},
   "outputs": [],
   "source": [
    "s=dt.datetime.now()"
   ]
  },
  {
   "cell_type": "code",
   "execution_count": 56,
   "id": "b2e9337b",
   "metadata": {},
   "outputs": [
    {
     "data": {
      "text/plain": [
       "datetime.datetime(2021, 7, 19, 23, 25, 45, 330708)"
      ]
     },
     "execution_count": 56,
     "metadata": {},
     "output_type": "execute_result"
    }
   ],
   "source": [
    "s"
   ]
  },
  {
   "cell_type": "code",
   "execution_count": 57,
   "id": "ecbd9522",
   "metadata": {},
   "outputs": [
    {
     "data": {
      "text/plain": [
       "2021"
      ]
     },
     "execution_count": 57,
     "metadata": {},
     "output_type": "execute_result"
    }
   ],
   "source": [
    "s.year"
   ]
  },
  {
   "cell_type": "code",
   "execution_count": 58,
   "id": "6e85d24c",
   "metadata": {},
   "outputs": [
    {
     "data": {
      "text/plain": [
       "19"
      ]
     },
     "execution_count": 58,
     "metadata": {},
     "output_type": "execute_result"
    }
   ],
   "source": [
    "s.day"
   ]
  },
  {
   "cell_type": "code",
   "execution_count": 59,
   "id": "549f4dbf",
   "metadata": {},
   "outputs": [
    {
     "data": {
      "text/plain": [
       "7"
      ]
     },
     "execution_count": 59,
     "metadata": {},
     "output_type": "execute_result"
    }
   ],
   "source": [
    "s.month"
   ]
  },
  {
   "cell_type": "markdown",
   "id": "4ee80961",
   "metadata": {},
   "source": [
    "# strftime( )"
   ]
  },
  {
   "cell_type": "code",
   "execution_count": 60,
   "id": "e60aadf8",
   "metadata": {},
   "outputs": [
    {
     "data": {
      "text/plain": [
       "'19'"
      ]
     },
     "execution_count": 60,
     "metadata": {},
     "output_type": "execute_result"
    }
   ],
   "source": [
    "s.strftime(\"%d\") #day"
   ]
  },
  {
   "cell_type": "code",
   "execution_count": 20,
   "id": "8a876c45",
   "metadata": {},
   "outputs": [
    {
     "data": {
      "text/plain": [
       "'07/19/21'"
      ]
     },
     "execution_count": 20,
     "metadata": {},
     "output_type": "execute_result"
    }
   ],
   "source": [
    "s.strftime(\"%D\") #date"
   ]
  },
  {
   "cell_type": "code",
   "execution_count": 61,
   "id": "947013ba",
   "metadata": {},
   "outputs": [
    {
     "data": {
      "text/plain": [
       "'07'"
      ]
     },
     "execution_count": 61,
     "metadata": {},
     "output_type": "execute_result"
    }
   ],
   "source": [
    "s.strftime(\"%m\") #month"
   ]
  },
  {
   "cell_type": "code",
   "execution_count": 62,
   "id": "2031422a",
   "metadata": {},
   "outputs": [
    {
     "data": {
      "text/plain": [
       "'25'"
      ]
     },
     "execution_count": 62,
     "metadata": {},
     "output_type": "execute_result"
    }
   ],
   "source": [
    "s.strftime(\"%M\") #minute"
   ]
  },
  {
   "cell_type": "code",
   "execution_count": 63,
   "id": "8516db80",
   "metadata": {},
   "outputs": [
    {
     "data": {
      "text/plain": [
       "'1626719145'"
      ]
     },
     "execution_count": 63,
     "metadata": {},
     "output_type": "execute_result"
    }
   ],
   "source": [
    "s.strftime(\"%s\")  #microsecond"
   ]
  },
  {
   "cell_type": "code",
   "execution_count": 64,
   "id": "8d4c7980",
   "metadata": {},
   "outputs": [
    {
     "data": {
      "text/plain": [
       "'45'"
      ]
     },
     "execution_count": 64,
     "metadata": {},
     "output_type": "execute_result"
    }
   ],
   "source": [
    "s.strftime(\"%S\") #second"
   ]
  },
  {
   "cell_type": "code",
   "execution_count": 65,
   "id": "2a561236",
   "metadata": {},
   "outputs": [
    {
     "data": {
      "text/plain": [
       "'21'"
      ]
     },
     "execution_count": 65,
     "metadata": {},
     "output_type": "execute_result"
    }
   ],
   "source": [
    "s.strftime(\"%y\") #year"
   ]
  },
  {
   "cell_type": "code",
   "execution_count": 66,
   "id": "a23f40af",
   "metadata": {},
   "outputs": [
    {
     "data": {
      "text/plain": [
       "'July'"
      ]
     },
     "execution_count": 66,
     "metadata": {},
     "output_type": "execute_result"
    }
   ],
   "source": [
    "s.strftime(\"%B\") #month"
   ]
  },
  {
   "cell_type": "code",
   "execution_count": 67,
   "id": "7457067d",
   "metadata": {},
   "outputs": [
    {
     "data": {
      "text/plain": [
       "'2021'"
      ]
     },
     "execution_count": 67,
     "metadata": {},
     "output_type": "execute_result"
    }
   ],
   "source": [
    "s.strftime(\"%Y\") #year in full form"
   ]
  },
  {
   "cell_type": "markdown",
   "id": "b0904bed",
   "metadata": {},
   "source": [
    "## strftime() is a function use for date formatting"
   ]
  },
  {
   "cell_type": "code",
   "execution_count": 68,
   "id": "1159213b",
   "metadata": {},
   "outputs": [
    {
     "data": {
      "text/plain": [
       "'July-19-2021'"
      ]
     },
     "execution_count": 68,
     "metadata": {},
     "output_type": "execute_result"
    }
   ],
   "source": [
    "s.strftime(\"%B-%d-%Y\")"
   ]
  },
  {
   "cell_type": "code",
   "execution_count": 37,
   "id": "bb6fedcf",
   "metadata": {},
   "outputs": [
    {
     "data": {
      "text/plain": [
       "'07-19-2021'"
      ]
     },
     "execution_count": 37,
     "metadata": {},
     "output_type": "execute_result"
    }
   ],
   "source": [
    "s.strftime(\"%m-%d-%Y\")"
   ]
  },
  {
   "cell_type": "code",
   "execution_count": 69,
   "id": "7aed4240",
   "metadata": {},
   "outputs": [
    {
     "data": {
      "text/plain": [
       "'07-19-21'"
      ]
     },
     "execution_count": 69,
     "metadata": {},
     "output_type": "execute_result"
    }
   ],
   "source": [
    "s.strftime(\"%m-%d-%y\")"
   ]
  },
  {
   "cell_type": "code",
   "execution_count": null,
   "id": "b2de7082",
   "metadata": {},
   "outputs": [],
   "source": []
  }
 ],
 "metadata": {
  "kernelspec": {
   "display_name": "Python 3",
   "language": "python",
   "name": "python3"
  },
  "language_info": {
   "codemirror_mode": {
    "name": "ipython",
    "version": 3
   },
   "file_extension": ".py",
   "mimetype": "text/x-python",
   "name": "python",
   "nbconvert_exporter": "python",
   "pygments_lexer": "ipython3",
   "version": "3.8.8"
  }
 },
 "nbformat": 4,
 "nbformat_minor": 5
}
