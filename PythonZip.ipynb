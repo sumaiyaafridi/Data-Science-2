{
 "cells": [
  {
   "cell_type": "code",
   "execution_count": 34,
   "id": "46810adf",
   "metadata": {},
   "outputs": [],
   "source": [
    "a=[1,2,3,4]\n",
    "b=[5,6,7,8]"
   ]
  },
  {
   "cell_type": "code",
   "execution_count": 35,
   "id": "5df26faf",
   "metadata": {},
   "outputs": [],
   "source": [
    "x = zip(a, b) "
   ]
  },
  {
   "cell_type": "code",
   "execution_count": 36,
   "id": "4c2f6ad3",
   "metadata": {},
   "outputs": [
    {
     "data": {
      "text/plain": [
       "[6, 8, 10, 12]"
      ]
     },
     "execution_count": 36,
     "metadata": {},
     "output_type": "execute_result"
    }
   ],
   "source": [
    "list(map(add,(a),(b)))"
   ]
  },
  {
   "cell_type": "code",
   "execution_count": 37,
   "id": "182fc66d",
   "metadata": {},
   "outputs": [],
   "source": [
    "def add(m,n):\n",
    "    return m+n  "
   ]
  },
  {
   "cell_type": "code",
   "execution_count": 38,
   "id": "be4535d6",
   "metadata": {},
   "outputs": [
    {
     "data": {
      "text/plain": [
       "[6, 8, 10, 12]"
      ]
     },
     "execution_count": 38,
     "metadata": {},
     "output_type": "execute_result"
    }
   ],
   "source": [
    "from itertools import starmap\n",
    "list(starmap(add,zip(a,b)))"
   ]
  },
  {
   "cell_type": "code",
   "execution_count": 39,
   "id": "56515928",
   "metadata": {},
   "outputs": [
    {
     "data": {
      "text/plain": [
       "[(1, 'a'), (2, 'b'), (3, 'c')]"
      ]
     },
     "execution_count": 39,
     "metadata": {},
     "output_type": "execute_result"
    }
   ],
   "source": [
    "numbers = [1, 2, 3]\n",
    "letters = ['a', 'b', 'c']\n",
    "zipped = zip(numbers, letters)\n",
    "zipped  # Holds an iterator object\n",
    "\n",
    "list(zipped)\n",
    "\n"
   ]
  },
  {
   "cell_type": "code",
   "execution_count": 42,
   "id": "31883efe",
   "metadata": {},
   "outputs": [],
   "source": [
    "# zip(x,y)\n",
    "# starmap(sub,zip(x,y))"
   ]
  }
 ],
 "metadata": {
  "kernelspec": {
   "display_name": "Python 3",
   "language": "python",
   "name": "python3"
  },
  "language_info": {
   "codemirror_mode": {
    "name": "ipython",
    "version": 3
   },
   "file_extension": ".py",
   "mimetype": "text/x-python",
   "name": "python",
   "nbconvert_exporter": "python",
   "pygments_lexer": "ipython3",
   "version": "3.8.8"
  }
 },
 "nbformat": 4,
 "nbformat_minor": 5
}
