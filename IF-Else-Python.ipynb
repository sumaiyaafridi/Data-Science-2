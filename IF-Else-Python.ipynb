{
 "cells": [
  {
   "cell_type": "code",
   "execution_count": 2,
   "id": "6e66ae61",
   "metadata": {},
   "outputs": [
    {
     "name": "stdout",
     "output_type": "stream",
     "text": [
      "2\n"
     ]
    }
   ],
   "source": [
    "x=2\n",
    "y=3\n",
    "\n",
    "if x<y:\n",
    "    print(x)"
   ]
  },
  {
   "cell_type": "code",
   "execution_count": 3,
   "id": "9a7bb56e",
   "metadata": {},
   "outputs": [],
   "source": [
    "x=6\n",
    "\n",
    "y=3\n",
    "\n",
    "if x<y: #6<3\n",
    "    print(x)"
   ]
  },
  {
   "cell_type": "code",
   "execution_count": 8,
   "id": "7a2b20a8",
   "metadata": {},
   "outputs": [
    {
     "name": "stdout",
     "output_type": "stream",
     "text": [
      "3\n"
     ]
    }
   ],
   "source": [
    "x=3\n",
    "y=3\n",
    "\n",
    "if x==y:\n",
    "    print(x)"
   ]
  },
  {
   "cell_type": "code",
   "execution_count": 10,
   "id": "4d8c76f5",
   "metadata": {},
   "outputs": [
    {
     "name": "stdout",
     "output_type": "stream",
     "text": [
      "3\n"
     ]
    }
   ],
   "source": [
    "x=3\n",
    "y=4\n",
    "\n",
    "if x!=y:# x is not equal to y\n",
    "    print(x)"
   ]
  },
  {
   "cell_type": "code",
   "execution_count": 12,
   "id": "10a1e0f3",
   "metadata": {},
   "outputs": [
    {
     "name": "stdout",
     "output_type": "stream",
     "text": [
      "y is greater then x\n"
     ]
    }
   ],
   "source": [
    "x=4\n",
    "y=3\n",
    "if x<y:\n",
    "    print('x is less than y')  \n",
    "    \n",
    "else:\n",
    "    print(\"y is greater then x\")"
   ]
  },
  {
   "cell_type": "code",
   "execution_count": 6,
   "id": "a4c1d119",
   "metadata": {},
   "outputs": [
    {
     "name": "stdout",
     "output_type": "stream",
     "text": [
      "y is less than x\n"
     ]
    }
   ],
   "source": [
    "x=6\n",
    "y=3\n",
    "if x<y:\n",
    "    print(\"x is less than y\")\n",
    "else:\n",
    "    print(\"y is less than x\")"
   ]
  },
  {
   "cell_type": "code",
   "execution_count": 14,
   "id": "c03a7e14",
   "metadata": {},
   "outputs": [
    {
     "name": "stdout",
     "output_type": "stream",
     "text": [
      "Both are equal\n"
     ]
    }
   ],
   "source": [
    "# If elif else statement\n",
    "x = 300\n",
    "y = 300\n",
    "\n",
    "if x < y:\n",
    "    print(\"x is less than y\")\n",
    "    \n",
    "elif x > y:\n",
    "    print(\"x is greater than y\")\n",
    "    \n",
    "else:\n",
    "    print(\"Both are equal\")\n",
    "    "
   ]
  },
  {
   "cell_type": "markdown",
   "id": "9967c8e5",
   "metadata": {},
   "source": [
    "### assign any value to variable x and then print if its positive value or negative value"
   ]
  },
  {
   "cell_type": "code",
   "execution_count": null,
   "id": "c91c2d4a",
   "metadata": {},
   "outputs": [],
   "source": []
  }
 ],
 "metadata": {
  "kernelspec": {
   "display_name": "Python 3",
   "language": "python",
   "name": "python3"
  },
  "language_info": {
   "codemirror_mode": {
    "name": "ipython",
    "version": 3
   },
   "file_extension": ".py",
   "mimetype": "text/x-python",
   "name": "python",
   "nbconvert_exporter": "python",
   "pygments_lexer": "ipython3",
   "version": "3.8.8"
  }
 },
 "nbformat": 4,
 "nbformat_minor": 5
}
