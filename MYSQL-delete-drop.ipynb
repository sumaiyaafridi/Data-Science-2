{
 "cells": [
  {
   "cell_type": "code",
   "execution_count": 1,
   "id": "f1b513b2",
   "metadata": {},
   "outputs": [],
   "source": [
    "import mysql.connector\n",
    "db = mysql.connector.connect(\n",
    "  host=\"localhost\",\n",
    "  user=\"sumayyah\",\n",
    "  password=\"afridi24.\",\n",
    "  database=\"Star\"\n",
    ")"
   ]
  },
  {
   "cell_type": "markdown",
   "id": "a05f9bcc",
   "metadata": {},
   "source": [
    "### DELETE"
   ]
  },
  {
   "cell_type": "code",
   "execution_count": 2,
   "id": "3603f341",
   "metadata": {},
   "outputs": [
    {
     "name": "stdout",
     "output_type": "stream",
     "text": [
      "2 record(s) deleted\n"
     ]
    }
   ],
   "source": [
    "c = db.cursor()\n",
    "\n",
    "sql = \"DELETE FROM Users WHERE Username = 'sam'\"\n",
    "\n",
    "c.execute(sql)\n",
    "\n",
    "db.commit()\n",
    "\n",
    "print(c.rowcount, \"record(s) deleted\")"
   ]
  },
  {
   "cell_type": "code",
   "execution_count": 3,
   "id": "e6f343b7",
   "metadata": {},
   "outputs": [
    {
     "name": "stdout",
     "output_type": "stream",
     "text": [
      "(1, 'sumayyah afridi', '123456')\n"
     ]
    }
   ],
   "source": [
    "c.execute(\"SELECT * FROM Users\")\n",
    "\n",
    "m = c.fetchall()\n",
    "\n",
    "for x in m:\n",
    "  print(x)"
   ]
  },
  {
   "cell_type": "markdown",
   "id": "1322dd38",
   "metadata": {},
   "source": [
    "## DROP"
   ]
  },
  {
   "cell_type": "code",
   "execution_count": null,
   "id": "28431396",
   "metadata": {},
   "outputs": [],
   "source": [
    "sql = \"DROP TABLE Users\"\n",
    "\n",
    "c.execute(sql) "
   ]
  },
  {
   "cell_type": "code",
   "execution_count": null,
   "id": "e2108a45",
   "metadata": {},
   "outputs": [],
   "source": [
    "c.execute(\"SHOW TABLES\")"
   ]
  },
  {
   "cell_type": "code",
   "execution_count": null,
   "id": "eb1008a3",
   "metadata": {},
   "outputs": [],
   "source": [
    "for i in c:\n",
    "    print(i)"
   ]
  },
  {
   "cell_type": "code",
   "execution_count": null,
   "id": "24fed3ce",
   "metadata": {},
   "outputs": [],
   "source": []
  }
 ],
 "metadata": {
  "kernelspec": {
   "display_name": "Python 3",
   "language": "python",
   "name": "python3"
  },
  "language_info": {
   "codemirror_mode": {
    "name": "ipython",
    "version": 3
   },
   "file_extension": ".py",
   "mimetype": "text/x-python",
   "name": "python",
   "nbconvert_exporter": "python",
   "pygments_lexer": "ipython3",
   "version": "3.8.8"
  }
 },
 "nbformat": 4,
 "nbformat_minor": 5
}
