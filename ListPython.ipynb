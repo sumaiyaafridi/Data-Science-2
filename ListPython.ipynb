{
 "cells": [
  {
   "cell_type": "code",
   "execution_count": 1,
   "id": "79e81ac9",
   "metadata": {},
   "outputs": [
    {
     "data": {
      "text/plain": [
       "[]"
      ]
     },
     "execution_count": 1,
     "metadata": {},
     "output_type": "execute_result"
    }
   ],
   "source": [
    "[ ] #list"
   ]
  },
  {
   "cell_type": "code",
   "execution_count": 3,
   "id": "0e954e79",
   "metadata": {},
   "outputs": [],
   "source": [
    " x #variable declare"
   ]
  },
  {
   "cell_type": "code",
   "execution_count": 4,
   "id": "eadd58ea",
   "metadata": {},
   "outputs": [],
   "source": [
    "x=0 #variable initialize"
   ]
  },
  {
   "cell_type": "code",
   "execution_count": 5,
   "id": "374d4e94",
   "metadata": {},
   "outputs": [],
   "source": [
    "a=[1,2,3,5]"
   ]
  },
  {
   "cell_type": "code",
   "execution_count": 6,
   "id": "234eef3d",
   "metadata": {},
   "outputs": [],
   "source": [
    "x=[1,2,3,4,5]"
   ]
  },
  {
   "cell_type": "code",
   "execution_count": null,
   "id": "7c645025",
   "metadata": {},
   "outputs": [],
   "source": [
    "1 2 3 ...1000   #integers"
   ]
  },
  {
   "cell_type": "code",
   "execution_count": null,
   "id": "76ec3ff1",
   "metadata": {},
   "outputs": [],
   "source": [
    "1.2, 2.3, 0.04 #float or double"
   ]
  },
  {
   "cell_type": "code",
   "execution_count": null,
   "id": "d01d475b",
   "metadata": {},
   "outputs": [],
   "source": [
    "\"sum\" \"and\"  #string"
   ]
  },
  {
   "cell_type": "code",
   "execution_count": 7,
   "id": "8844839e",
   "metadata": {},
   "outputs": [
    {
     "data": {
      "text/plain": [
       "[1, 2, 3, 4, 5]"
      ]
     },
     "execution_count": 7,
     "metadata": {},
     "output_type": "execute_result"
    }
   ],
   "source": [
    "x"
   ]
  },
  {
   "cell_type": "code",
   "execution_count": 13,
   "id": "4ae10775",
   "metadata": {},
   "outputs": [],
   "source": [
    "s=\"9.1\""
   ]
  },
  {
   "cell_type": "code",
   "execution_count": 14,
   "id": "8bcdeb6c",
   "metadata": {},
   "outputs": [
    {
     "data": {
      "text/plain": [
       "str"
      ]
     },
     "execution_count": 14,
     "metadata": {},
     "output_type": "execute_result"
    }
   ],
   "source": [
    "type(s)"
   ]
  },
  {
   "cell_type": "code",
   "execution_count": 8,
   "id": "249431ed",
   "metadata": {},
   "outputs": [
    {
     "data": {
      "text/plain": [
       "list"
      ]
     },
     "execution_count": 8,
     "metadata": {},
     "output_type": "execute_result"
    }
   ],
   "source": [
    "type(x)"
   ]
  },
  {
   "cell_type": "code",
   "execution_count": 17,
   "id": "966d33dd",
   "metadata": {},
   "outputs": [],
   "source": [
    "x=['a',3.0,5]"
   ]
  },
  {
   "cell_type": "code",
   "execution_count": 18,
   "id": "b01bff31",
   "metadata": {},
   "outputs": [
    {
     "data": {
      "text/plain": [
       "['a', 3.0, 5]"
      ]
     },
     "execution_count": 18,
     "metadata": {},
     "output_type": "execute_result"
    }
   ],
   "source": [
    "x"
   ]
  },
  {
   "cell_type": "code",
   "execution_count": 19,
   "id": "2574b7f0",
   "metadata": {},
   "outputs": [
    {
     "data": {
      "text/plain": [
       "list"
      ]
     },
     "execution_count": 19,
     "metadata": {},
     "output_type": "execute_result"
    }
   ],
   "source": [
    "type(x)"
   ]
  },
  {
   "cell_type": "code",
   "execution_count": null,
   "id": "319e6b53",
   "metadata": {},
   "outputs": [],
   "source": [
    "a[],upper[3]  #reperesents location"
   ]
  },
  {
   "cell_type": "code",
   "execution_count": 23,
   "id": "631aa9b8",
   "metadata": {},
   "outputs": [
    {
     "data": {
      "text/plain": [
       "'a'"
      ]
     },
     "execution_count": 23,
     "metadata": {},
     "output_type": "execute_result"
    }
   ],
   "source": [
    "x[0]"
   ]
  },
  {
   "cell_type": "code",
   "execution_count": 26,
   "id": "98a514e1",
   "metadata": {},
   "outputs": [
    {
     "data": {
      "text/plain": [
       "5"
      ]
     },
     "execution_count": 26,
     "metadata": {},
     "output_type": "execute_result"
    }
   ],
   "source": [
    "x[-1]"
   ]
  },
  {
   "cell_type": "code",
   "execution_count": 27,
   "id": "bc77b273",
   "metadata": {},
   "outputs": [
    {
     "data": {
      "text/plain": [
       "['a', 3.0, 5]"
      ]
     },
     "execution_count": 27,
     "metadata": {},
     "output_type": "execute_result"
    }
   ],
   "source": [
    "x"
   ]
  },
  {
   "cell_type": "code",
   "execution_count": 30,
   "id": "a139d544",
   "metadata": {},
   "outputs": [],
   "source": [
    "x[1]='e'  #Location wise change"
   ]
  },
  {
   "cell_type": "code",
   "execution_count": 29,
   "id": "fc903aa8",
   "metadata": {},
   "outputs": [
    {
     "data": {
      "text/plain": [
       "['a', 'e', 5]"
      ]
     },
     "execution_count": 29,
     "metadata": {},
     "output_type": "execute_result"
    }
   ],
   "source": [
    "x"
   ]
  },
  {
   "cell_type": "code",
   "execution_count": 31,
   "id": "9a8bf753",
   "metadata": {},
   "outputs": [],
   "source": [
    "x.append(9)"
   ]
  },
  {
   "cell_type": "code",
   "execution_count": 32,
   "id": "d8f37edc",
   "metadata": {},
   "outputs": [
    {
     "data": {
      "text/plain": [
       "['a', 'e', 5, 9]"
      ]
     },
     "execution_count": 32,
     "metadata": {},
     "output_type": "execute_result"
    }
   ],
   "source": [
    "x"
   ]
  },
  {
   "cell_type": "code",
   "execution_count": 35,
   "id": "5bf3db0c",
   "metadata": {},
   "outputs": [],
   "source": [
    "x.extend([2,3,4,6])"
   ]
  },
  {
   "cell_type": "code",
   "execution_count": 36,
   "id": "cfe95d13",
   "metadata": {},
   "outputs": [
    {
     "data": {
      "text/plain": [
       "['a', 'e', 5, 9, 2, 3, 4, 6, 2, 3, 4, 6]"
      ]
     },
     "execution_count": 36,
     "metadata": {},
     "output_type": "execute_result"
    }
   ],
   "source": [
    "x"
   ]
  },
  {
   "cell_type": "code",
   "execution_count": 39,
   "id": "4ecedece",
   "metadata": {},
   "outputs": [],
   "source": [
    "x.remove(9) #item wise deletion"
   ]
  },
  {
   "cell_type": "code",
   "execution_count": 40,
   "id": "07721426",
   "metadata": {},
   "outputs": [
    {
     "data": {
      "text/plain": [
       "['a', 5, 2, 3, 4, 6, 2, 3, 4, 6]"
      ]
     },
     "execution_count": 40,
     "metadata": {},
     "output_type": "execute_result"
    }
   ],
   "source": [
    "x"
   ]
  },
  {
   "cell_type": "code",
   "execution_count": 43,
   "id": "e4babc58",
   "metadata": {},
   "outputs": [
    {
     "data": {
      "text/plain": [
       "2"
      ]
     },
     "execution_count": 43,
     "metadata": {},
     "output_type": "execute_result"
    }
   ],
   "source": [
    "x.pop(1) #index wise deleteion"
   ]
  },
  {
   "cell_type": "code",
   "execution_count": 44,
   "id": "a8a1d6b3",
   "metadata": {},
   "outputs": [
    {
     "data": {
      "text/plain": [
       "[5, 3, 4, 6, 2, 3, 4, 6]"
      ]
     },
     "execution_count": 44,
     "metadata": {},
     "output_type": "execute_result"
    }
   ],
   "source": [
    "x"
   ]
  },
  {
   "cell_type": "code",
   "execution_count": null,
   "id": "a5a23580",
   "metadata": {},
   "outputs": [],
   "source": [
    "[0:2,0:3]  #slicing"
   ]
  },
  {
   "cell_type": "code",
   "execution_count": 46,
   "id": "1b237b40",
   "metadata": {},
   "outputs": [],
   "source": [
    "del x[0:3]   "
   ]
  },
  {
   "cell_type": "code",
   "execution_count": 47,
   "id": "78b2148e",
   "metadata": {},
   "outputs": [
    {
     "data": {
      "text/plain": [
       "[3, 4, 6]"
      ]
     },
     "execution_count": 47,
     "metadata": {},
     "output_type": "execute_result"
    }
   ],
   "source": [
    "x"
   ]
  },
  {
   "cell_type": "markdown",
   "id": "cc759b38",
   "metadata": {},
   "source": [
    "## Create a list and remove 3rd item "
   ]
  },
  {
   "cell_type": "code",
   "execution_count": null,
   "id": "bff3c753",
   "metadata": {},
   "outputs": [],
   "source": []
  }
 ],
 "metadata": {
  "kernelspec": {
   "display_name": "Python 3",
   "language": "python",
   "name": "python3"
  },
  "language_info": {
   "codemirror_mode": {
    "name": "ipython",
    "version": 3
   },
   "file_extension": ".py",
   "mimetype": "text/x-python",
   "name": "python",
   "nbconvert_exporter": "python",
   "pygments_lexer": "ipython3",
   "version": "3.8.8"
  }
 },
 "nbformat": 4,
 "nbformat_minor": 5
}
