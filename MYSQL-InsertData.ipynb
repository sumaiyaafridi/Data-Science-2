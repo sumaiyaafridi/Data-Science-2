{
 "cells": [
  {
   "cell_type": "code",
   "execution_count": 1,
   "id": "edc0d6f8",
   "metadata": {},
   "outputs": [],
   "source": [
    "import mysql.connector"
   ]
  },
  {
   "cell_type": "code",
   "execution_count": 2,
   "id": "a9a20e70",
   "metadata": {},
   "outputs": [],
   "source": [
    "db=mysql.connector.connect(\n",
    "    host='localhost',\n",
    "    user='sumayyah',\n",
    "    password='afridi24.'\n",
    "    )"
   ]
  },
  {
   "cell_type": "code",
   "execution_count": 3,
   "id": "66fbd193",
   "metadata": {},
   "outputs": [],
   "source": [
    "c=db.cursor()"
   ]
  },
  {
   "cell_type": "code",
   "execution_count": 7,
   "id": "8c25bb6c",
   "metadata": {},
   "outputs": [],
   "source": [
    "c.execute('CREATE DATABASE Cafe')"
   ]
  },
  {
   "cell_type": "code",
   "execution_count": 8,
   "id": "71621618",
   "metadata": {},
   "outputs": [],
   "source": [
    "c.execute('SHOW DATABASES')"
   ]
  },
  {
   "cell_type": "code",
   "execution_count": 9,
   "id": "faf5ec7d",
   "metadata": {},
   "outputs": [
    {
     "name": "stdout",
     "output_type": "stream",
     "text": [
      "('Cafe',)\n",
      "('MIS',)\n",
      "('School',)\n",
      "('Star',)\n",
      "('information_schema',)\n",
      "('mysql',)\n",
      "('performance_schema',)\n",
      "('sys',)\n"
     ]
    }
   ],
   "source": [
    "for x in c:\n",
    "    print(x)"
   ]
  },
  {
   "cell_type": "code",
   "execution_count": 10,
   "id": "a63c16da",
   "metadata": {},
   "outputs": [],
   "source": [
    "db=mysql.connector.connect(\n",
    "    host='localhost',\n",
    "    user='sumayyah',\n",
    "    password='afridi24.',\n",
    "    database='Cafe'\n",
    "    )"
   ]
  },
  {
   "cell_type": "code",
   "execution_count": 11,
   "id": "2d957765",
   "metadata": {},
   "outputs": [],
   "source": [
    "c=db.cursor()"
   ]
  },
  {
   "cell_type": "markdown",
   "id": "70aa9907",
   "metadata": {},
   "source": [
    "### CREATE TABLE"
   ]
  },
  {
   "cell_type": "code",
   "execution_count": 12,
   "id": "eff8256a",
   "metadata": {},
   "outputs": [],
   "source": [
    "c.execute(\"CREATE TABLE Customer (name VARCHAR(255), item VARCHAR(255))\")"
   ]
  },
  {
   "cell_type": "code",
   "execution_count": 13,
   "id": "96bcccb0",
   "metadata": {},
   "outputs": [],
   "source": [
    "c.execute(\"SHOW TABLES\")"
   ]
  },
  {
   "cell_type": "code",
   "execution_count": 14,
   "id": "ec68afdc",
   "metadata": {},
   "outputs": [
    {
     "name": "stdout",
     "output_type": "stream",
     "text": [
      "('Customer',)\n"
     ]
    }
   ],
   "source": [
    "for x in c:\n",
    "    print(x)"
   ]
  },
  {
   "cell_type": "markdown",
   "id": "421ef741",
   "metadata": {},
   "source": [
    "### INSERT INTO"
   ]
  },
  {
   "cell_type": "code",
   "execution_count": 19,
   "id": "d24e278c",
   "metadata": {},
   "outputs": [
    {
     "name": "stdout",
     "output_type": "stream",
     "text": [
      "1 record inserted.\n"
     ]
    }
   ],
   "source": [
    "sql = \"INSERT INTO Customer (name, item) VALUES (%s, %s)\"\n",
    "val = (\"Hira\", \"Salad\")\n",
    "\n",
    "c.execute(sql, val)\n",
    "\n",
    "db.commit()\n",
    "\n",
    "print(c.rowcount, \"record inserted.\")"
   ]
  },
  {
   "cell_type": "markdown",
   "id": "53a7dfdb",
   "metadata": {},
   "source": [
    "### SELECT"
   ]
  },
  {
   "cell_type": "code",
   "execution_count": 20,
   "id": "df71a700",
   "metadata": {},
   "outputs": [],
   "source": [
    "c.execute(\"SELECT * FROM Customer\")"
   ]
  },
  {
   "cell_type": "code",
   "execution_count": 21,
   "id": "be30ebfd",
   "metadata": {},
   "outputs": [
    {
     "name": "stdout",
     "output_type": "stream",
     "text": [
      "('Hira', 'Salad')\n",
      "('Hira', 'Salad')\n",
      "('Hira', 'Salad')\n"
     ]
    }
   ],
   "source": [
    "myresult = c.fetchall()\n",
    "\n",
    "for x in myresult:\n",
    "  print(x)"
   ]
  },
  {
   "cell_type": "code",
   "execution_count": null,
   "id": "5986082b",
   "metadata": {},
   "outputs": [],
   "source": []
  }
 ],
 "metadata": {
  "kernelspec": {
   "display_name": "Python 3",
   "language": "python",
   "name": "python3"
  },
  "language_info": {
   "codemirror_mode": {
    "name": "ipython",
    "version": 3
   },
   "file_extension": ".py",
   "mimetype": "text/x-python",
   "name": "python",
   "nbconvert_exporter": "python",
   "pygments_lexer": "ipython3",
   "version": "3.8.8"
  }
 },
 "nbformat": 4,
 "nbformat_minor": 5
}
