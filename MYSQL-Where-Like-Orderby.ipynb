{
 "cells": [
  {
   "cell_type": "code",
   "execution_count": 9,
   "id": "32ab88ea",
   "metadata": {},
   "outputs": [],
   "source": [
    "import mysql.connector"
   ]
  },
  {
   "cell_type": "code",
   "execution_count": 10,
   "id": "0a99f0db",
   "metadata": {},
   "outputs": [],
   "source": [
    "db = mysql.connector.connect(\n",
    "  host=\"localhost\",\n",
    "  user=\"sumayyah\",\n",
    "  password=\"afridi24.\",\n",
    "  database=\"Star\"\n",
    ")"
   ]
  },
  {
   "cell_type": "code",
   "execution_count": 11,
   "id": "96982fde",
   "metadata": {},
   "outputs": [],
   "source": [
    "c= db.cursor()"
   ]
  },
  {
   "cell_type": "markdown",
   "id": "4ea7000c",
   "metadata": {},
   "source": [
    "## WHERE"
   ]
  },
  {
   "cell_type": "code",
   "execution_count": null,
   "id": "e8b77f65",
   "metadata": {},
   "outputs": [],
   "source": [
    "# df2=df[df['Marks']=>60]  \"  \""
   ]
  },
  {
   "cell_type": "code",
   "execution_count": 14,
   "id": "d7211bd8",
   "metadata": {},
   "outputs": [
    {
     "name": "stdout",
     "output_type": "stream",
     "text": [
      "(1, 'sumayyah afridi', '123456')\n"
     ]
    }
   ],
   "source": [
    "sql = \"SELECT * FROM Users WHERE Passcode ='123456'\"  # * means all rows\n",
    "\n",
    "c.execute(sql)\n",
    "\n",
    "r = c.fetchall()\n",
    "\n",
    "for x in r:\n",
    "  print(x)"
   ]
  },
  {
   "cell_type": "markdown",
   "id": "4e1440ef",
   "metadata": {},
   "source": [
    "## LIKE"
   ]
  },
  {
   "cell_type": "code",
   "execution_count": 24,
   "id": "5e4c8c75",
   "metadata": {},
   "outputs": [
    {
     "name": "stdout",
     "output_type": "stream",
     "text": [
      "(1, 'sumayyah afridi', '123456')\n",
      "(4, 'sam', '12345')\n"
     ]
    }
   ],
   "source": [
    "sql = \"SELECT * FROM Users WHERE Passcode LIKE '%5%'\"\n",
    "\n",
    "c.execute(sql)\n",
    "\n",
    "r = c.fetchall()\n",
    "\n",
    "for x in r:\n",
    "  print(x)"
   ]
  },
  {
   "cell_type": "markdown",
   "id": "11ae755b",
   "metadata": {},
   "source": [
    "### ORDER BY"
   ]
  },
  {
   "cell_type": "code",
   "execution_count": 25,
   "id": "4c76cc09",
   "metadata": {},
   "outputs": [],
   "source": [
    "# asc 1234....   abc......z"
   ]
  },
  {
   "cell_type": "code",
   "execution_count": null,
   "id": "3dae903a",
   "metadata": {},
   "outputs": [],
   "source": [
    "# desc 9876..1   z....a"
   ]
  },
  {
   "cell_type": "code",
   "execution_count": 28,
   "id": "0ae984b6",
   "metadata": {},
   "outputs": [
    {
     "name": "stdout",
     "output_type": "stream",
     "text": [
      "(3, 'sam', '123')\n",
      "(4, 'sam', '12345')\n",
      "(1, 'sumayyah afridi', '123456')\n"
     ]
    }
   ],
   "source": [
    "sql = \"SELECT * FROM Users ORDER BY Username\"\n",
    "\n",
    "c.execute(sql)\n",
    "\n",
    "m = c.fetchall()\n",
    "\n",
    "for x in m:\n",
    "  print(x)"
   ]
  },
  {
   "cell_type": "code",
   "execution_count": 27,
   "id": "dfe92ff3",
   "metadata": {},
   "outputs": [
    {
     "name": "stdout",
     "output_type": "stream",
     "text": [
      "(1, 'sumayyah afridi', '123456')\n",
      "(3, 'sam', '123')\n",
      "(4, 'sam', '12345')\n"
     ]
    }
   ],
   "source": [
    "sql = \"SELECT * FROM Users ORDER BY Username desc\"\n",
    "\n",
    "c.execute(sql)\n",
    "\n",
    "m = c.fetchall()\n",
    "\n",
    "for x in m:\n",
    "  print(x)"
   ]
  },
  {
   "cell_type": "code",
   "execution_count": null,
   "id": "a8ae2dac",
   "metadata": {},
   "outputs": [],
   "source": []
  }
 ],
 "metadata": {
  "kernelspec": {
   "display_name": "Python 3",
   "language": "python",
   "name": "python3"
  },
  "language_info": {
   "codemirror_mode": {
    "name": "ipython",
    "version": 3
   },
   "file_extension": ".py",
   "mimetype": "text/x-python",
   "name": "python",
   "nbconvert_exporter": "python",
   "pygments_lexer": "ipython3",
   "version": "3.8.8"
  }
 },
 "nbformat": 4,
 "nbformat_minor": 5
}
